{
  "nbformat": 4,
  "nbformat_minor": 0,
  "metadata": {
    "colab": {
      "provenance": [],
      "authorship_tag": "ABX9TyP8XJ6EpFYfLZWiHOo6tsna",
      "include_colab_link": true
    },
    "kernelspec": {
      "name": "python3",
      "display_name": "Python 3"
    },
    "language_info": {
      "name": "python"
    },
    "widgets": {
      "application/vnd.jupyter.widget-state+json": {
        "51708ea5adb84c9892c220bae24984c7": {
          "model_module": "@jupyter-widgets/controls",
          "model_name": "TextModel",
          "model_module_version": "1.5.0",
          "state": {
            "_dom_classes": [],
            "_model_module": "@jupyter-widgets/controls",
            "_model_module_version": "1.5.0",
            "_model_name": "TextModel",
            "_view_count": null,
            "_view_module": "@jupyter-widgets/controls",
            "_view_module_version": "1.5.0",
            "_view_name": "TextView",
            "continuous_update": true,
            "description": "URL:",
            "description_tooltip": null,
            "disabled": false,
            "layout": "IPY_MODEL_471e8e5d54ba4fa68fc3c4fe7db41294",
            "placeholder": "URL giriniz",
            "style": "IPY_MODEL_42ed4ac53d4843e1a46c0952699853b0",
            "value": "https://h"
          }
        },
        "471e8e5d54ba4fa68fc3c4fe7db41294": {
          "model_module": "@jupyter-widgets/base",
          "model_name": "LayoutModel",
          "model_module_version": "1.2.0",
          "state": {
            "_model_module": "@jupyter-widgets/base",
            "_model_module_version": "1.2.0",
            "_model_name": "LayoutModel",
            "_view_count": null,
            "_view_module": "@jupyter-widgets/base",
            "_view_module_version": "1.2.0",
            "_view_name": "LayoutView",
            "align_content": null,
            "align_items": null,
            "align_self": null,
            "border": null,
            "bottom": null,
            "display": null,
            "flex": null,
            "flex_flow": null,
            "grid_area": null,
            "grid_auto_columns": null,
            "grid_auto_flow": null,
            "grid_auto_rows": null,
            "grid_column": null,
            "grid_gap": null,
            "grid_row": null,
            "grid_template_areas": null,
            "grid_template_columns": null,
            "grid_template_rows": null,
            "height": null,
            "justify_content": null,
            "justify_items": null,
            "left": null,
            "margin": null,
            "max_height": null,
            "max_width": null,
            "min_height": null,
            "min_width": null,
            "object_fit": null,
            "object_position": null,
            "order": null,
            "overflow": null,
            "overflow_x": null,
            "overflow_y": null,
            "padding": null,
            "right": null,
            "top": null,
            "visibility": null,
            "width": null
          }
        },
        "42ed4ac53d4843e1a46c0952699853b0": {
          "model_module": "@jupyter-widgets/controls",
          "model_name": "DescriptionStyleModel",
          "model_module_version": "1.5.0",
          "state": {
            "_model_module": "@jupyter-widgets/controls",
            "_model_module_version": "1.5.0",
            "_model_name": "DescriptionStyleModel",
            "_view_count": null,
            "_view_module": "@jupyter-widgets/base",
            "_view_module_version": "1.2.0",
            "_view_name": "StyleView",
            "description_width": ""
          }
        },
        "c60f9d46c03e49f3960f7d3aa1cea2f8": {
          "model_module": "@jupyter-widgets/controls",
          "model_name": "ButtonModel",
          "model_module_version": "1.5.0",
          "state": {
            "_dom_classes": [],
            "_model_module": "@jupyter-widgets/controls",
            "_model_module_version": "1.5.0",
            "_model_name": "ButtonModel",
            "_view_count": null,
            "_view_module": "@jupyter-widgets/controls",
            "_view_module_version": "1.5.0",
            "_view_name": "ButtonView",
            "button_style": "",
            "description": "Örümceyi Başlat",
            "disabled": false,
            "icon": "search",
            "layout": "IPY_MODEL_9f1623914b26450d89724285219d489d",
            "style": "IPY_MODEL_308696b53d6d47238aa74ca91d810ef6",
            "tooltip": "Web sayfasını kazımak için tıklayın"
          }
        },
        "9f1623914b26450d89724285219d489d": {
          "model_module": "@jupyter-widgets/base",
          "model_name": "LayoutModel",
          "model_module_version": "1.2.0",
          "state": {
            "_model_module": "@jupyter-widgets/base",
            "_model_module_version": "1.2.0",
            "_model_name": "LayoutModel",
            "_view_count": null,
            "_view_module": "@jupyter-widgets/base",
            "_view_module_version": "1.2.0",
            "_view_name": "LayoutView",
            "align_content": null,
            "align_items": null,
            "align_self": null,
            "border": null,
            "bottom": null,
            "display": null,
            "flex": null,
            "flex_flow": null,
            "grid_area": null,
            "grid_auto_columns": null,
            "grid_auto_flow": null,
            "grid_auto_rows": null,
            "grid_column": null,
            "grid_gap": null,
            "grid_row": null,
            "grid_template_areas": null,
            "grid_template_columns": null,
            "grid_template_rows": null,
            "height": null,
            "justify_content": null,
            "justify_items": null,
            "left": null,
            "margin": null,
            "max_height": null,
            "max_width": null,
            "min_height": null,
            "min_width": null,
            "object_fit": null,
            "object_position": null,
            "order": null,
            "overflow": null,
            "overflow_x": null,
            "overflow_y": null,
            "padding": null,
            "right": null,
            "top": null,
            "visibility": null,
            "width": null
          }
        },
        "308696b53d6d47238aa74ca91d810ef6": {
          "model_module": "@jupyter-widgets/controls",
          "model_name": "ButtonStyleModel",
          "model_module_version": "1.5.0",
          "state": {
            "_model_module": "@jupyter-widgets/controls",
            "_model_module_version": "1.5.0",
            "_model_name": "ButtonStyleModel",
            "_view_count": null,
            "_view_module": "@jupyter-widgets/base",
            "_view_module_version": "1.2.0",
            "_view_name": "StyleView",
            "button_color": null,
            "font_weight": ""
          }
        }
      }
    }
  },
  "cells": [
    {
      "cell_type": "markdown",
      "metadata": {
        "id": "view-in-github",
        "colab_type": "text"
      },
      "source": [
        "<a href=\"https://colab.research.google.com/github/minayil/webOrumcegi/blob/main/WebOrumcegi00.ipynb\" target=\"_parent\"><img src=\"https://colab.research.google.com/assets/colab-badge.svg\" alt=\"Open In Colab\"/></a>"
      ]
    },
    {
      "source": [
        "pip install requests beautifulsoup4"
      ],
      "cell_type": "code",
      "metadata": {
        "colab": {
          "base_uri": "https://localhost:8080/"
        },
        "id": "ZrPjzgE6PuDU",
        "outputId": "0054e11a-7bac-47ce-f7f4-885c6f75118b"
      },
      "execution_count": null,
      "outputs": [
        {
          "output_type": "stream",
          "name": "stdout",
          "text": [
            "Requirement already satisfied: requests in /usr/local/lib/python3.10/dist-packages (2.32.3)\n",
            "Requirement already satisfied: beautifulsoup4 in /usr/local/lib/python3.10/dist-packages (4.12.3)\n",
            "Requirement already satisfied: charset-normalizer<4,>=2 in /usr/local/lib/python3.10/dist-packages (from requests) (3.3.2)\n",
            "Requirement already satisfied: idna<4,>=2.5 in /usr/local/lib/python3.10/dist-packages (from requests) (3.10)\n",
            "Requirement already satisfied: urllib3<3,>=1.21.1 in /usr/local/lib/python3.10/dist-packages (from requests) (2.2.3)\n",
            "Requirement already satisfied: certifi>=2017.4.17 in /usr/local/lib/python3.10/dist-packages (from requests) (2024.8.30)\n",
            "Requirement already satisfied: soupsieve>1.2 in /usr/local/lib/python3.10/dist-packages (from beautifulsoup4) (2.6)\n"
          ]
        }
      ]
    },
    {
      "source": [
        "import requests\n",
        "\n",
        "link = input(\"link giriniz\")\n",
        "\n",
        "response = requests.get(link)\n",
        "\n",
        "print(response.text)"
      ],
      "cell_type": "code",
      "metadata": {
        "id": "x_d234g5Pw_V"
      },
      "execution_count": null,
      "outputs": []
    },
    {
      "cell_type": "code",
      "source": [
        "import ipywidgets as widgets\n",
        "\n",
        "webURL = widgets.link(description=\"Web URL\", value=\"\")"
      ],
      "metadata": {
        "id": "4qk7I4XbS80s"
      },
      "execution_count": null,
      "outputs": []
    },
    {
      "cell_type": "code",
      "source": [
        "import requests\n",
        "url = input(\"link giriniz\")\n",
        "response = requests.get(url)\n",
        "print(response.text)"
      ],
      "metadata": {
        "id": "I7Qvbpr0YBrJ"
      },
      "execution_count": null,
      "outputs": []
    },
    {
      "cell_type": "code",
      "source": [
        "import requests\n",
        "\n",
        "# Basit bir GET isteği\n",
        "url = 'https://www.hacettepe.edu.tr/'\n",
        "response = requests.get(url)\n",
        "\n",
        "# İsteğin başarılı olup olmadığını kontrol et\n",
        "if response.status_code == 200:\n",
        "    print(\"Sayfa içeriği:\")\n",
        "    print(response.text)  # Sayfanın HTML içeriğini yazdır\n",
        "else:\n",
        "    print(f\"Hata: {response.status_code}\")\n"
      ],
      "metadata": {
        "id": "qpBK4bYfUXUa"
      },
      "execution_count": null,
      "outputs": []
    },
    {
      "cell_type": "code",
      "source": [
        "import requests\n",
        "from bs4 import BeautifulSoup\n",
        "\n",
        "def scrape_website(url):\n",
        "    try:\n",
        "        # Sayfayı indir\n",
        "        response = requests.get(url)\n",
        "        response.raise_for_status()  # Hata varsa bildir\n",
        "\n",
        "        # HTML içeriğini parçala\n",
        "        soup = BeautifulSoup(response.text, 'html.parser')\n",
        "\n",
        "        # Başlıkları bul\n",
        "        titles = soup.find_all(['h1', 'h2', 'h3'])  # h1, h2 ve h3 başlıklarını bul\n",
        "        print(\"Sayfadaki başlıklar:\")\n",
        "        for title in titles:\n",
        "            print(title.text.strip())  # Başlıkları yazdır\n",
        "    except requests.exceptions.RequestException as e:\n",
        "        print(f\"Hata: {e}\")\n",
        "\n",
        "# Kullanıcıdan URL al\n",
        "url = input(\"Lütfen bir URL girin: \")\n",
        "scrape_website(url)\n"
      ],
      "metadata": {
        "id": "d_lylm7sWDey"
      },
      "execution_count": null,
      "outputs": []
    },
    {
      "source": [
        "import requests\n",
        "from bs4 import BeautifulSoup\n",
        "import ipywidgets as widgets\n",
        "from IPython.display import display\n",
        "\n",
        "def scrape_website(url):\n",
        "  try:\n",
        "    response = requests.get(url)\n",
        "    if response.status_code == 200:\n",
        "      soup = BeautifulSoup(response.text, 'html.parser')\n",
        "      titles = soup.find_all(['h1', 'h2', 'h3'])\n",
        "      for title in titles:\n",
        "        print(title.text)\n",
        "    else:\n",
        "      print(f\"Error: Status code {response.status_code} received for {url}\")\n",
        "  except requests.exceptions.RequestException as e:\n",
        "    print(f\"An error occurred: {e}\")\n",
        "\n",
        "# URL giriş alanı\n",
        "url_input = widgets.Text(\n",
        "    value='',\n",
        "    placeholder='URL giriniz',\n",
        "    description='URL:',\n",
        "    disabled=False\n",
        ")\n",
        "\n",
        "# Örümceyi başlat düğmesi\n",
        "scrape_button = widgets.Button(\n",
        "    description='Örümceyi Başlat',\n",
        "    disabled=False,\n",
        "    button_style='', # 'success', 'info', 'warning', 'danger' or ''\n",
        "    tooltip='Web sayfasını kazımak için tıklayın',\n",
        "    icon='search' # (FontAwesome names without the `fa-` prefix)\n",
        ")\n",
        "\n",
        "# Düğmeye tıklama olayını işleme\n",
        "def on_scrape_button_clicked(b):\n",
        "  scrape_website(url_input.value)\n",
        "\n",
        "scrape_button.on_click(on_scrape_button_clicked)\n",
        "\n",
        "# URL giriş alanını ve düğmeyi görüntüle\n",
        "display(url_input, scrape_button)"
      ],
      "cell_type": "code",
      "metadata": {
        "colab": {
          "base_uri": "https://localhost:8080/",
          "height": 150,
          "referenced_widgets": [
            "51708ea5adb84c9892c220bae24984c7",
            "471e8e5d54ba4fa68fc3c4fe7db41294",
            "42ed4ac53d4843e1a46c0952699853b0",
            "c60f9d46c03e49f3960f7d3aa1cea2f8",
            "9f1623914b26450d89724285219d489d",
            "308696b53d6d47238aa74ca91d810ef6"
          ]
        },
        "id": "BxYxeTzfaUvQ",
        "outputId": "97fc9fbd-6baf-4786-cbec-13fa3c90f930"
      },
      "execution_count": null,
      "outputs": [
        {
          "output_type": "display_data",
          "data": {
            "text/plain": [
              "Text(value='', description='URL:', placeholder='URL giriniz')"
            ],
            "application/vnd.jupyter.widget-view+json": {
              "version_major": 2,
              "version_minor": 0,
              "model_id": "51708ea5adb84c9892c220bae24984c7"
            }
          },
          "metadata": {}
        },
        {
          "output_type": "display_data",
          "data": {
            "text/plain": [
              "Button(description='Örümceyi Başlat', icon='search', style=ButtonStyle(), tooltip='Web sayfasını kazımak için …"
            ],
            "application/vnd.jupyter.widget-view+json": {
              "version_major": 2,
              "version_minor": 0,
              "model_id": "c60f9d46c03e49f3960f7d3aa1cea2f8"
            }
          },
          "metadata": {}
        },
        {
          "output_type": "stream",
          "name": "stdout",
          "text": [
            "An error occurred: Invalid URL '': No scheme supplied. Perhaps you meant https://?\n",
            "An error occurred: Invalid URL '': No scheme supplied. Perhaps you meant https://?\n",
            "An error occurred: Invalid URL '': No scheme supplied. Perhaps you meant https://?\n",
            "An error occurred: Invalid URL 'hacettepe.edu.tr': No scheme supplied. Perhaps you meant https://hacettepe.edu.tr?\n"
          ]
        }
      ]
    }
  ]
}