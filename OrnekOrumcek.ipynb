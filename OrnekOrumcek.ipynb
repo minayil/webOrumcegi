{
  "nbformat": 4,
  "nbformat_minor": 0,
  "metadata": {
    "colab": {
      "provenance": [],
      "authorship_tag": "ABX9TyOzUJIQHrmgcnsfPKkJHHH5",
      "include_colab_link": true
    },
    "kernelspec": {
      "name": "python3",
      "display_name": "Python 3"
    },
    "language_info": {
      "name": "python"
    }
  },
  "cells": [
    {
      "cell_type": "markdown",
      "metadata": {
        "id": "view-in-github",
        "colab_type": "text"
      },
      "source": [
        "<a href=\"https://colab.research.google.com/github/minayil/webOrumcegi/blob/main/OrnekOrumcek.ipynb\" target=\"_parent\"><img src=\"https://colab.research.google.com/assets/colab-badge.svg\" alt=\"Open In Colab\"/></a>"
      ]
    },
    {
      "cell_type": "code",
      "execution_count": 1,
      "metadata": {
        "id": "6z6_3cIPKyjt"
      },
      "outputs": [],
      "source": [
        "class DataURL:\n",
        "\n",
        "  dataFile = \"dataURL.txt\"\n",
        "\n",
        "  def __init__(self):\n",
        "    fileTest = open(self.dataFile, 'a')\n",
        "    fileTest.close()\n",
        "\n",
        "  def dataWrite(self):\n",
        "    dataOpen = open(self.dataFile, 'a')\n",
        "    siteURL = input(\"Site adresini ön eki ile birlikte giriniz: \")\n",
        "    dataOpen.write(siteURL+\"\\n\")\n",
        "    dataOpen.close()\n",
        "\n",
        "  def dataRead(self):\n",
        "    dataOpen = open(self.dataFile, 'r')\n",
        "    for dataShow in dataOpen:\n",
        "      print(dataShow)\n",
        "    dataOpen.close()"
      ]
    },
    {
      "cell_type": "code",
      "source": [
        "import urllib.request\n",
        "from bs4 import BeautifulSoup\n",
        "\n",
        "class GetURL:\n",
        "\n",
        "    dataFile = \"dataURL.txt\"\n",
        "    getFile = \"getURL.txt\"\n",
        "\n",
        "    def __init__(self):\n",
        "        fileTest = open(self.getFile, 'a')\n",
        "        fileTest.close()\n",
        "\n",
        "    def getWeb(self):\n",
        "\n",
        "        print(\"Örümcek çalışıyor...\")\n",
        "\n",
        "        dataOpen = open(self.dataFile, 'r')\n",
        "        getOpen = open(self.getFile, 'w')\n",
        "\n",
        "        for dataGet in dataOpen:\n",
        "            webSite = urllib.request.urlopen(dataGet)\n",
        "            getBytes = webSite.read()\n",
        "            webPage = getBytes.decode(\"utf8\")\n",
        "            webSite.close()\n",
        "            soup = BeautifulSoup(webPage, 'html.parser')\n",
        "            getOpen.write(dataGet.strip() + \" - \" + soup.title.contents[0] + \"\\n\")\n",
        "        dataOpen.close()\n",
        "        getOpen.close()\n",
        "\n",
        "        print(\"Çalışma tamamlandı!\")\n",
        "\n",
        "    def getList(self):\n",
        "\n",
        "        getOpen = open(self.getFile, 'r')\n",
        "        for dataShow in getOpen:\n",
        "          print(dataShow)\n",
        "        getOpen.close()"
      ],
      "metadata": {
        "id": "U_9z27bYK7X0"
      },
      "execution_count": 2,
      "outputs": []
    },
    {
      "cell_type": "code",
      "source": [
        "import time\n",
        "#from dataURL import DataURL\n",
        "#from getURL import GetURL\n",
        "\n",
        "useDataURL = DataURL()\n",
        "useGetURL = GetURL()\n",
        "\n",
        "print(\"-: Mini Örümceğe hoş geldiniz! :-\")\n",
        "print(\"|------------------------------|\")\n",
        "print(\"\")\n",
        "time.sleep(2)\n",
        "\n",
        "while True:\n",
        "    print(\"Menü: 0)Çıkış 1)URL Listele 2)URL Ekle 3)Örümcek Gönder 4)Sonuçları Listele\")\n",
        "    menuSecim = int(input(\"Tercihiniz: \"))\n",
        "    if menuSecim == 0:\n",
        "        print(\"Mini Örümcek kapatılıyor...\")\n",
        "        time.sleep(1)\n",
        "        break\n",
        "    elif menuSecim == 1:\n",
        "        useDataURL.dataRead()\n",
        "    elif menuSecim == 2:\n",
        "        useDataURL.dataWrite()\n",
        "    elif menuSecim == 3:\n",
        "        useGetURL.getWeb()\n",
        "    elif menuSecim == 4:\n",
        "        useGetURL.getList()"
      ],
      "metadata": {
        "colab": {
          "base_uri": "https://localhost:8080/"
        },
        "id": "PmxMYllaLAbv",
        "outputId": "7a1eef0e-3ba8-4d4d-dcf1-e17728f8179b"
      },
      "execution_count": 4,
      "outputs": [
        {
          "output_type": "stream",
          "name": "stdout",
          "text": [
            "-: Mini Örümceğe hoş geldiniz! :-\n",
            "|------------------------------|\n",
            "\n",
            "Menü: 0)Çıkış 1)URL Listele 2)URL Ekle 3)Örümcek Gönder 4)Sonuçları Listele\n",
            "Tercihiniz: 2\n",
            "Site adresini ön eki ile birlikte giriniz: https://colab.research.google.com/drive/14IHa5PsfVSqoHuBZqhmLh4Dr1Je3KpAM#scrollTo=PmxMYllaLAbv\n",
            "Menü: 0)Çıkış 1)URL Listele 2)URL Ekle 3)Örümcek Gönder 4)Sonuçları Listele\n",
            "Tercihiniz: 3\n",
            "Örümcek çalışıyor...\n",
            "Çalışma tamamlandı!\n",
            "Menü: 0)Çıkış 1)URL Listele 2)URL Ekle 3)Örümcek Gönder 4)Sonuçları Listele\n",
            "Tercihiniz: 4\n",
            "https://colab.research.google.com/drive/14IHa5PsfVSqoHuBZqhmLh4Dr1Je3KpAM#scrollTo=PmxMYllaLAbv - Google Colab\n",
            "\n",
            "Menü: 0)Çıkış 1)URL Listele 2)URL Ekle 3)Örümcek Gönder 4)Sonuçları Listele\n",
            "Tercihiniz: 0\n",
            "Mini Örümcek kapatılıyor...\n"
          ]
        }
      ]
    }
  ]
}